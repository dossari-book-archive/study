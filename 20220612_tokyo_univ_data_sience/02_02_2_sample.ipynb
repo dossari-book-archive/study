{
 "cells": [
  {
   "cell_type": "code",
   "execution_count": 31,
   "id": "569b2bc5",
   "metadata": {},
   "outputs": [
    {
     "data": {
      "text/plain": [
       "'%.3f'"
      ]
     },
     "execution_count": 31,
     "metadata": {},
     "output_type": "execute_result"
    }
   ],
   "source": [
    "import numpy as np\n",
    "# 小数点3位まで表示\n",
    "%precision 3"
   ]
  },
  {
   "cell_type": "code",
   "execution_count": 6,
   "id": "a8956ef2",
   "metadata": {},
   "outputs": [
    {
     "data": {
      "text/plain": [
       "array([ 9,  2,  3,  4, 10,  6,  7,  8])"
      ]
     },
     "execution_count": 6,
     "metadata": {},
     "output_type": "execute_result"
    }
   ],
   "source": [
    "data = np.array([9, 2, 3, 4, 10, 6, 7, 8])\n",
    "data"
   ]
  },
  {
   "cell_type": "code",
   "execution_count": 6,
   "id": "9781254d",
   "metadata": {},
   "outputs": [
    {
     "data": {
      "text/plain": [
       "dtype('int32')"
      ]
     },
     "execution_count": 6,
     "metadata": {},
     "output_type": "execute_result"
    }
   ],
   "source": [
    "data.dtype # Numpyが保持している精度"
   ]
  },
  {
   "cell_type": "code",
   "execution_count": 9,
   "id": "6fc1cc4e",
   "metadata": {},
   "outputs": [
    {
     "data": {
      "text/plain": [
       "dtype('float64')"
      ]
     },
     "execution_count": 9,
     "metadata": {},
     "output_type": "execute_result"
    }
   ],
   "source": [
    "data2 = np.array([0, 1.1, 2.2, 3.3])\n",
    "data2.dtype"
   ]
  },
  {
   "cell_type": "code",
   "execution_count": 40,
   "id": "e642f3b0",
   "metadata": {},
   "outputs": [
    {
     "name": "stdout",
     "output_type": "stream",
     "text": [
      "[109 102 103 104 110 106 107 108]\n",
      "[-91 -98 -97 -96 -90 -94 -93 -92]\n",
      "[ 900  200  300  400 1000  600  700  800]\n",
      "[0.09 0.02 0.03 0.04 0.1  0.06 0.07 0.08]\n"
     ]
    }
   ],
   "source": [
    "print(data + 100)\n",
    "print(data - 100)\n",
    "print(data * 100)\n",
    "print(data / 100)"
   ]
  },
  {
   "cell_type": "code",
   "execution_count": 1,
   "id": "082151b8",
   "metadata": {},
   "outputs": [
    {
     "ename": "NameError",
     "evalue": "name 'array' is not defined",
     "output_type": "error",
     "traceback": [
      "\u001b[1;31m---------------------------------------------------------------------------\u001b[0m",
      "\u001b[1;31mNameError\u001b[0m                                 Traceback (most recent call last)",
      "Input \u001b[1;32mIn [1]\u001b[0m, in \u001b[0;36m<cell line: 1>\u001b[1;34m()\u001b[0m\n\u001b[1;32m----> 1\u001b[0m \u001b[38;5;241m2\u001b[39m \u001b[38;5;241m*\u001b[39m \u001b[43marray\u001b[49m([\u001b[38;5;241m1\u001b[39m,\u001b[38;5;241m2\u001b[39m,\u001b[38;5;241m3\u001b[39m])\n",
      "\u001b[1;31mNameError\u001b[0m: name 'array' is not defined"
     ]
    }
   ],
   "source": [
    "2 * array([1,2,3]) # エラー"
   ]
  },
  {
   "cell_type": "code",
   "execution_count": 36,
   "id": "e25abf31",
   "metadata": {},
   "outputs": [
    {
     "name": "stdout",
     "output_type": "stream",
     "text": [
      "[3, 4]\n",
      "[4, 3, 2]\n",
      "[4, 3, 2, 1]\n",
      "[1, 3, 5]\n",
      "[5, 3, 1]\n"
     ]
    }
   ],
   "source": [
    "print([1,2,3,4,5][2:4:1]) # stepが性の場合、endはindex - 1だから、index2～3が取得される\n",
    "print([1,2,3,4,5][3:0:-1]) # stepが負の場合、endはindex+1だから、index1～3が逆順で取得される\n",
    "print([1,2,3,4,5][3::-1]) # stepが負の場合、endを省略すると先頭まで取得（end=0の指定と結果が異なるのに若干違和感…）\n",
    "print([1,2,3,4,5][::2]) # start,endを省略すると先頭から末尾まで、step単位で取得される\n",
    "print([1,2,3,4,5][::-2]) # start,endを省略すると先頭から末尾まで、step単位で取得される)"
   ]
  },
  {
   "cell_type": "code",
   "execution_count": 37,
   "id": "910aa70d",
   "metadata": {},
   "outputs": [
    {
     "name": "stdout",
     "output_type": "stream",
     "text": [
      "[1 4 2 3 5]\n",
      "[1 2 3 4 5]\n"
     ]
    }
   ],
   "source": [
    "data_sort = np.array([1,4,2,3,5])\n",
    "print(data_sort)\n",
    "data_sort.sort()\n",
    "print(data_sort)"
   ]
  },
  {
   "cell_type": "code",
   "execution_count": 39,
   "id": "2aa0c8d3",
   "metadata": {},
   "outputs": [
    {
     "name": "stdout",
     "output_type": "stream",
     "text": [
      "10\n",
      "1\n",
      "55\n",
      "[ 1  3  6 10 15 21 28 36 45 55]\n"
     ]
    }
   ],
   "source": [
    "data_agg = np.array([1,2,3,4,5,6,7,8,9,10])\n",
    "print(data_agg.max())\n",
    "print(data_agg.min())\n",
    "print(data_agg.sum())\n",
    "print(data_agg.cumsum())"
   ]
  }
 ],
 "metadata": {
  "kernelspec": {
   "display_name": "Python 3 (ipykernel)",
   "language": "python",
   "name": "python3"
  },
  "language_info": {
   "codemirror_mode": {
    "name": "ipython",
    "version": 3
   },
   "file_extension": ".py",
   "mimetype": "text/x-python",
   "name": "python",
   "nbconvert_exporter": "python",
   "pygments_lexer": "ipython3",
   "version": "3.9.12"
  }
 },
 "nbformat": 4,
 "nbformat_minor": 5
}
