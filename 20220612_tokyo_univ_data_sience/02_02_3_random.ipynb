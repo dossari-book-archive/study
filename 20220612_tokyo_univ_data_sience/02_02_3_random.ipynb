{
 "cells": [
  {
   "cell_type": "code",
   "execution_count": 11,
   "id": "afbb3add",
   "metadata": {},
   "outputs": [
    {
     "name": "stdout",
     "output_type": "stream",
     "text": [
      "[ 1.76405235  0.40015721  0.97873798  2.2408932   1.86755799 -0.97727788\n",
      "  0.95008842 -0.15135721 -0.10321885  0.4105985 ]\n",
      "[0.14404357 1.45427351 0.76103773 0.12167502 0.44386323]\n",
      "[ 0.33367433  1.49407907 -0.20515826  0.3130677  -0.85409574 -2.55298982\n",
      "  0.6536186   0.8644362 ]\n"
     ]
    }
   ],
   "source": [
    "import numpy.random as random\n",
    "\n",
    "random.seed(0) # 実行前に設定しておくと、毎回同じ結果になる\n",
    "print(random.randn(10)) # 正規分布 分散0 平均1\n",
    "print(random.randn(5))\n",
    "print(random.randn(8))"
   ]
  },
  {
   "cell_type": "code",
   "execution_count": 13,
   "id": "6499c204",
   "metadata": {},
   "outputs": [
    {
     "name": "stdout",
     "output_type": "stream",
     "text": [
      "4.78 ms ± 30.8 µs per loop (mean ± std. dev. of 7 runs, 100 loops each)\n",
      "711 µs ± 8.73 µs per loop (mean ± std. dev. of 7 runs, 1,000 loops each)\n"
     ]
    }
   ],
   "source": [
    "import numpy as np\n",
    "\n",
    "N = 10**6\n",
    "normal_data = [random.random() for _ in range(N)]\n",
    "numpy_random_data = np.array(normal_data)\n",
    "\n",
    "%timeit sum(normal_data) # 標準関数\n",
    "%timeit np.sum(numpy_random_data) # Numpyライブラリ関数。こちらの方が高速"
   ]
  }
 ],
 "metadata": {
  "kernelspec": {
   "display_name": "Python 3 (ipykernel)",
   "language": "python",
   "name": "python3"
  },
  "language_info": {
   "codemirror_mode": {
    "name": "ipython",
    "version": 3
   },
   "file_extension": ".py",
   "mimetype": "text/x-python",
   "name": "python",
   "nbconvert_exporter": "python",
   "pygments_lexer": "ipython3",
   "version": "3.9.12"
  }
 },
 "nbformat": 4,
 "nbformat_minor": 5
}
