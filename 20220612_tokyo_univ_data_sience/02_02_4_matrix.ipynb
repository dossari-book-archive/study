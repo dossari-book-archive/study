{
 "cells": [
  {
   "cell_type": "code",
   "execution_count": 9,
   "id": "afbb3add",
   "metadata": {},
   "outputs": [
    {
     "data": {
      "text/plain": [
       "array([[0, 1, 2],\n",
       "       [3, 4, 5],\n",
       "       [6, 7, 8]])"
      ]
     },
     "execution_count": 9,
     "metadata": {},
     "output_type": "execute_result"
    }
   ],
   "source": [
    "import numpy as np\n",
    "mat = np.arange(9).reshape(3,3)\n",
    "mat"
   ]
  },
  {
   "cell_type": "code",
   "execution_count": 7,
   "id": "6499c204",
   "metadata": {},
   "outputs": [
    {
     "ename": "ValueError",
     "evalue": "cannot reshape array of size 10 into shape (3,3)",
     "output_type": "error",
     "traceback": [
      "\u001b[1;31m---------------------------------------------------------------------------\u001b[0m",
      "\u001b[1;31mValueError\u001b[0m                                Traceback (most recent call last)",
      "Input \u001b[1;32mIn [7]\u001b[0m, in \u001b[0;36m<cell line: 1>\u001b[1;34m()\u001b[0m\n\u001b[1;32m----> 1\u001b[0m \u001b[43mnp\u001b[49m\u001b[38;5;241;43m.\u001b[39;49m\u001b[43marange\u001b[49m\u001b[43m(\u001b[49m\u001b[38;5;241;43m10\u001b[39;49m\u001b[43m)\u001b[49m\u001b[38;5;241;43m.\u001b[39;49m\u001b[43mreshape\u001b[49m\u001b[43m(\u001b[49m\u001b[38;5;241;43m3\u001b[39;49m\u001b[43m,\u001b[49m\u001b[38;5;241;43m3\u001b[39;49m\u001b[43m)\u001b[49m\n",
      "\u001b[1;31mValueError\u001b[0m: cannot reshape array of size 10 into shape (3,3)"
     ]
    }
   ],
   "source": [
    "np.arange(10).reshape(3,3) # エラー"
   ]
  },
  {
   "cell_type": "code",
   "execution_count": 15,
   "id": "e3f42d40",
   "metadata": {},
   "outputs": [
    {
     "name": "stdout",
     "output_type": "stream",
     "text": [
      "4\n",
      "5\n",
      "[0 1 2]\n",
      "[1 4 7]\n"
     ]
    }
   ],
   "source": [
    "# 要素、行、列の抽出\n",
    "print(mat[1,1])\n",
    "print(mat[1,2])\n",
    "print(mat[0,:]) # 行の抽出\n",
    "print(mat[:,1]) # 列の抽出"
   ]
  },
  {
   "cell_type": "code",
   "execution_count": 47,
   "id": "b44bca90",
   "metadata": {},
   "outputs": [
    {
     "name": "stdout",
     "output_type": "stream",
     "text": [
      "mat + 5:\n",
      " [[ 5  6  7]\n",
      " [ 8  9 10]\n",
      " [11 12 13]]\n",
      "\n",
      "mat - 5:\n",
      " [[-5 -4 -3]\n",
      " [-2 -1  0]\n",
      " [ 1  2  3]]\n",
      "\n",
      "mat * 5:\n",
      " [[ 0  5 10]\n",
      " [15 20 25]\n",
      " [30 35 40]]\n",
      "\n",
      "mat / 5:\n",
      " [[0.  0.2 0.4]\n",
      " [0.6 0.8 1. ]\n",
      " [1.2 1.4 1.6]]\n",
      "\n",
      "mat ** 2:\n",
      " [[ 0  1  4]\n",
      " [ 9 16 25]\n",
      " [36 49 64]]\n",
      "\n",
      "mat * mat:\n",
      " [[ 0  1  4]\n",
      " [ 9 16 25]\n",
      " [36 49 64]]\n",
      "\n",
      "mat * np.array([1,2,3]):\n",
      " [[ 0  2  6]\n",
      " [ 3  8 15]\n",
      " [ 6 14 24]]\n"
     ]
    }
   ],
   "source": [
    "# 要素内の四則演算\n",
    "print(\"mat + 5:\\n\", mat + 5)\n",
    "print(\"\\nmat - 5:\\n\", mat - 5)\n",
    "print(\"\\nmat * 5:\\n\", mat * 5)\n",
    "print(\"\\nmat / 5:\\n\", mat / 5)\n",
    "print(\"\\nmat ** 2:\\n\", mat ** 2)\n",
    "print(\"\\nmat * mat:\\n\", mat * mat)\n",
    "print(\"\\nmat * np.array([1,2,3]):\\n\", mat * np.array([1,2,3]))"
   ]
  },
  {
   "cell_type": "code",
   "execution_count": 34,
   "id": "545d4bb2",
   "metadata": {},
   "outputs": [
    {
     "name": "stdout",
     "output_type": "stream",
     "text": [
      "[[ 15  18  21]\n",
      " [ 42  54  66]\n",
      " [ 69  90 111]]\n",
      "\n",
      " [18 54 90]\n"
     ]
    }
   ],
   "source": [
    "# 行列の掛け算\n",
    "print(np.dot(mat, mat))\n",
    "print(\"\\n\", np.dot(mat, mat[:,1]))"
   ]
  },
  {
   "cell_type": "code",
   "execution_count": 46,
   "id": "c6e216f6",
   "metadata": {},
   "outputs": [
    {
     "name": "stdout",
     "output_type": "stream",
     "text": [
      "[[0. 0. 0.]\n",
      " [0. 0. 0.]]\n",
      "[[0 0 0]\n",
      " [0 0 0]]\n",
      "[[1. 1. 1.]\n",
      " [1. 1. 1.]]\n"
     ]
    }
   ],
   "source": [
    "# ゼロ行列\n",
    "print(np.zeros((2, 3)))\n",
    "print(np.zeros((2, 3), dtype = np.int64))\n",
    "print(np.ones((2, 3), dtype = np.float64))"
   ]
  }
 ],
 "metadata": {
  "kernelspec": {
   "display_name": "Python 3 (ipykernel)",
   "language": "python",
   "name": "python3"
  },
  "language_info": {
   "codemirror_mode": {
    "name": "ipython",
    "version": 3
   },
   "file_extension": ".py",
   "mimetype": "text/x-python",
   "name": "python",
   "nbconvert_exporter": "python",
   "pygments_lexer": "ipython3",
   "version": "3.9.12"
  }
 },
 "nbformat": 4,
 "nbformat_minor": 5
}
