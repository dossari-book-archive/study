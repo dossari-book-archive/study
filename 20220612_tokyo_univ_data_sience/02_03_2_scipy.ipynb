{
 "cells": [
  {
   "cell_type": "code",
   "execution_count": 1,
   "id": "0aea5668",
   "metadata": {},
   "outputs": [
    {
     "name": "stdout",
     "output_type": "stream",
     "text": [
      "行列式\n",
      "-2.0\n",
      "\n",
      "逆行列\n",
      "[[-2.   1. ]\n",
      " [ 1.5 -0.5]]\n"
     ]
    }
   ],
   "source": [
    "import numpy as np\n",
    "import scipy.linalg as linalg\n",
    "\n",
    "matrix = np.array([[1,2], [3,4]])\n",
    "print(\"行列式\")\n",
    "print(linalg.det(matrix))\n",
    "print(\"\\n逆行列\")\n",
    "print(linalg.inv(matrix))"
   ]
  },
  {
   "cell_type": "code",
   "execution_count": 3,
   "id": "d1892e3e",
   "metadata": {},
   "outputs": [
    {
     "name": "stdout",
     "output_type": "stream",
     "text": [
      "固有値 [-0.37228132+0.j  5.37228132+0.j]\n",
      "固有ベクトル [[-0.82456484 -0.41597356]\n",
      " [ 0.56576746 -0.90937671]]\n"
     ]
    }
   ],
   "source": [
    "eig_value, eig_vector = linalg.eig([[1,2], [3,4]])\n",
    "print('固有値', eig_value)\n",
    "print('固有ベクトル', eig_vector)"
   ]
  },
  {
   "cell_type": "code",
   "execution_count": 5,
   "id": "d79312ec",
   "metadata": {},
   "outputs": [
    {
     "name": "stdout",
     "output_type": "stream",
     "text": [
      "-0.9999999852953906\n",
      "-0.999999979744582\n",
      "-1.0000000209432447\n"
     ]
    }
   ],
   "source": [
    "from scipy.optimize import newton\n",
    "def f(x):\n",
    "    return x ** 2 + 2 * x + 1\n",
    "print(newton(f, 0))\n",
    "print(newton(f, 100))\n",
    "print(newton(f, -100))"
   ]
  },
  {
   "cell_type": "code",
   "execution_count": 9,
   "id": "1e8f29fa",
   "metadata": {},
   "outputs": [
    {
     "name": "stdout",
     "output_type": "stream",
     "text": [
      "     fun: 0.0\n",
      "    nfev: 9\n",
      "     nit: 4\n",
      " success: True\n",
      "       x: -1.0000000000000002\n",
      "     fun: 0.0\n",
      "    nfev: 9\n",
      "     nit: 4\n",
      " success: True\n",
      "       x: -1.0000000000000002\n"
     ]
    }
   ],
   "source": [
    "from scipy.optimize import minimize_scalar\n",
    "def f(x):\n",
    "    return x ** 2 + 2 * x + 1\n",
    "print(minimize_scalar(f))\n",
    "print(minimize_scalar(f, method = 'Brent'))"
   ]
  }
 ],
 "metadata": {
  "kernelspec": {
   "display_name": "Python 3 (ipykernel)",
   "language": "python",
   "name": "python3"
  },
  "language_info": {
   "codemirror_mode": {
    "name": "ipython",
    "version": 3
   },
   "file_extension": ".py",
   "mimetype": "text/x-python",
   "name": "python",
   "nbconvert_exporter": "python",
   "pygments_lexer": "ipython3",
   "version": "3.9.12"
  }
 },
 "nbformat": 4,
 "nbformat_minor": 5
}
